{
 "cells": [
  {
   "cell_type": "code",
   "execution_count": 2,
   "metadata": {},
   "outputs": [],
   "source": [
    "%matplotlib inline\n",
    "%reload_ext autoreload\n",
    "%autoreload 2"
   ]
  },
  {
   "cell_type": "code",
   "execution_count": 4,
   "metadata": {},
   "outputs": [],
   "source": [
    "import torch\n",
    "import torch.nn as nn\n",
    "\n",
    "import numpy as np, pandas as pd\n",
    "\n",
    "from torch.utils.data.dataset import Dataset\n",
    "from pathlib import Path\n",
    "\n",
    "import fastai.structured as structured\n",
    "import fastai.column_data as column_data\n",
    "from fastai.dataset import ModelData\n",
    "from fastai.dataloader import DataLoader\n"
   ]
  },
  {
   "cell_type": "markdown",
   "metadata": {},
   "source": [
    "## Load the price data"
   ]
  },
  {
   "cell_type": "code",
   "execution_count": 5,
   "metadata": {},
   "outputs": [
    {
     "name": "stdout",
     "output_type": "stream",
     "text": [
      "btc_simple_norm.csv  eth_simple_norm.csv  ltc_simple_norm.csv\r\n",
      "btc_stat_series.csv  eth_stat_series.csv  ltc_stat_series.csv\r\n"
     ]
    }
   ],
   "source": [
    "!ls data/NORM"
   ]
  },
  {
   "cell_type": "code",
   "execution_count": 6,
   "metadata": {},
   "outputs": [],
   "source": [
    "DATA = Path('./data')\n",
    "NORM_DATA = DATA / 'NORM'"
   ]
  },
  {
   "cell_type": "code",
   "execution_count": 93,
   "metadata": {},
   "outputs": [
    {
     "name": "stdout",
     "output_type": "stream",
     "text": [
      "LTC frame: \n"
     ]
    },
    {
     "data": {
      "text/html": [
       "<div>\n",
       "<style scoped>\n",
       "    .dataframe tbody tr th:only-of-type {\n",
       "        vertical-align: middle;\n",
       "    }\n",
       "\n",
       "    .dataframe tbody tr th {\n",
       "        vertical-align: top;\n",
       "    }\n",
       "\n",
       "    .dataframe thead th {\n",
       "        text-align: right;\n",
       "    }\n",
       "</style>\n",
       "<table border=\"1\" class=\"dataframe\">\n",
       "  <thead>\n",
       "    <tr style=\"text-align: right;\">\n",
       "      <th></th>\n",
       "      <th>Date</th>\n",
       "      <th>Symbol</th>\n",
       "      <th>Open</th>\n",
       "      <th>High</th>\n",
       "      <th>Low</th>\n",
       "      <th>Close</th>\n",
       "      <th>Volume From</th>\n",
       "      <th>Volume To</th>\n",
       "    </tr>\n",
       "  </thead>\n",
       "  <tbody>\n",
       "    <tr>\n",
       "      <th>0</th>\n",
       "      <td>2018-08-01 10-PM</td>\n",
       "      <td>LTCUSD</td>\n",
       "      <td>-0.019644</td>\n",
       "      <td>0.004935</td>\n",
       "      <td>-0.017324</td>\n",
       "      <td>0.000868</td>\n",
       "      <td>1.300439</td>\n",
       "      <td>1.297490</td>\n",
       "    </tr>\n",
       "    <tr>\n",
       "      <th>1</th>\n",
       "      <td>2018-08-01 09-PM</td>\n",
       "      <td>LTCUSD</td>\n",
       "      <td>-0.000253</td>\n",
       "      <td>-0.016129</td>\n",
       "      <td>0.001898</td>\n",
       "      <td>-0.019644</td>\n",
       "      <td>-0.906104</td>\n",
       "      <td>-0.916326</td>\n",
       "    </tr>\n",
       "    <tr>\n",
       "      <th>2</th>\n",
       "      <td>2018-08-01 08-PM</td>\n",
       "      <td>LTCUSD</td>\n",
       "      <td>0.019525</td>\n",
       "      <td>0.009213</td>\n",
       "      <td>0.000000</td>\n",
       "      <td>-0.000253</td>\n",
       "      <td>0.194636</td>\n",
       "      <td>0.198967</td>\n",
       "    </tr>\n",
       "    <tr>\n",
       "      <th>3</th>\n",
       "      <td>2018-08-01 07-PM</td>\n",
       "      <td>LTCUSD</td>\n",
       "      <td>-0.005718</td>\n",
       "      <td>0.000743</td>\n",
       "      <td>0.013683</td>\n",
       "      <td>0.019525</td>\n",
       "      <td>-0.875367</td>\n",
       "      <td>-0.867487</td>\n",
       "    </tr>\n",
       "    <tr>\n",
       "      <th>4</th>\n",
       "      <td>2018-08-01 06-PM</td>\n",
       "      <td>LTCUSD</td>\n",
       "      <td>-0.001247</td>\n",
       "      <td>-0.005215</td>\n",
       "      <td>-0.001372</td>\n",
       "      <td>-0.005718</td>\n",
       "      <td>-0.072912</td>\n",
       "      <td>-0.076443</td>\n",
       "    </tr>\n",
       "  </tbody>\n",
       "</table>\n",
       "</div>"
      ],
      "text/plain": [
       "               Date  Symbol      Open      High       Low     Close  \\\n",
       "0  2018-08-01 10-PM  LTCUSD -0.019644  0.004935 -0.017324  0.000868   \n",
       "1  2018-08-01 09-PM  LTCUSD -0.000253 -0.016129  0.001898 -0.019644   \n",
       "2  2018-08-01 08-PM  LTCUSD  0.019525  0.009213  0.000000 -0.000253   \n",
       "3  2018-08-01 07-PM  LTCUSD -0.005718  0.000743  0.013683  0.019525   \n",
       "4  2018-08-01 06-PM  LTCUSD -0.001247 -0.005215 -0.001372 -0.005718   \n",
       "\n",
       "   Volume From  Volume To  \n",
       "0     1.300439   1.297490  \n",
       "1    -0.906104  -0.916326  \n",
       "2     0.194636   0.198967  \n",
       "3    -0.875367  -0.867487  \n",
       "4    -0.072912  -0.076443  "
      ]
     },
     "execution_count": 93,
     "metadata": {},
     "output_type": "execute_result"
    }
   ],
   "source": [
    "dfs = {}\n",
    "for file_path in NORM_DATA.iterdir():\n",
    "    if 'stat_series' in str(file_path):\n",
    "        coin = file_path.name.split('_')[0].upper()\n",
    "        df = pd.read_csv(file_path)\n",
    "        df = df.drop(columns=['Unnamed: 0'])\n",
    "        dfs[coin] = df\n",
    "        \n",
    "print(\"LTC frame: \")\n",
    "dfs['LTC'].head()"
   ]
  },
  {
   "cell_type": "code",
   "execution_count": 26,
   "metadata": {},
   "outputs": [
    {
     "data": {
      "text/plain": [
       "Index(['Date', 'Symbol', 'Open', 'High', 'Low', 'Close', 'Volume From',\n",
       "       'Volume To'],\n",
       "      dtype='object')"
      ]
     },
     "execution_count": 26,
     "metadata": {},
     "output_type": "execute_result"
    }
   ],
   "source": [
    "dfs['LTC'].columns"
   ]
  },
  {
   "cell_type": "code",
   "execution_count": 28,
   "metadata": {},
   "outputs": [
    {
     "data": {
      "text/plain": [
       "['Open', 'High', 'Low', 'Close', 'Volume From', 'Volume To']"
      ]
     },
     "execution_count": 28,
     "metadata": {},
     "output_type": "execute_result"
    }
   ],
   "source": [
    "numeric_columns = [ column for column in dfs['LTC'].columns if np.issubdtype(dfs['LTC'][column].dtype, np.number) ]\n",
    "numeric_columns"
   ]
  },
  {
   "cell_type": "code",
   "execution_count": 29,
   "metadata": {},
   "outputs": [
    {
     "data": {
      "text/plain": [
       "[9511, 9511, 9511]"
      ]
     },
     "execution_count": 29,
     "metadata": {},
     "output_type": "execute_result"
    }
   ],
   "source": [
    "[len(df) for _, df in dfs.items()]"
   ]
  },
  {
   "cell_type": "markdown",
   "metadata": {},
   "source": [
    "## Load the trades and merge "
   ]
  },
  {
   "cell_type": "code",
   "execution_count": 94,
   "metadata": {},
   "outputs": [
    {
     "name": "stdout",
     "output_type": "stream",
     "text": [
      "LTC trades shape:  (9463, 48)\n"
     ]
    }
   ],
   "source": [
    "TRADES_DATA = DATA / 'TRADES'\n",
    "trades = {}\n",
    "for npfile in TRADES_DATA.iterdir():\n",
    "    if 'multi_trades_v3' in str(npfile):\n",
    "        coin = npfile.name[:3]\n",
    "        \n",
    "        trades[coin] = np.load(npfile)\n",
    "print('LTC trades shape: ', trades['LTC'].shape)"
   ]
  },
  {
   "cell_type": "code",
   "execution_count": 99,
   "metadata": {},
   "outputs": [],
   "source": [
    "coins = {k: v[numeric_columns].values for k,v in dfs.items()}"
   ]
  },
  {
   "cell_type": "code",
   "execution_count": 101,
   "metadata": {},
   "outputs": [
    {
     "data": {
      "text/plain": [
       "array([-0.01964,  0.00494, -0.01732,  0.00087,  1.30044,  1.29749])"
      ]
     },
     "execution_count": 101,
     "metadata": {},
     "output_type": "execute_result"
    }
   ],
   "source": [
    "coins['LTC']"
   ]
  },
  {
   "cell_type": "code",
   "execution_count": 100,
   "metadata": {
    "scrolled": false
   },
   "outputs": [
    {
     "data": {
      "text/plain": [
       "{'LTC': array([[-0.01964,  0.00494, -0.01732,  0.00087,  1.30044,  1.29749],\n",
       "        [-0.00025, -0.01613,  0.0019 , -0.01964, -0.9061 , -0.91633],\n",
       "        [ 0.01953,  0.00921,  0.     , -0.00025,  0.19464,  0.19897],\n",
       "        ...,\n",
       "        [ 0.01517,  0.00946,  0.00239, -0.00334, -0.67629, -0.66842],\n",
       "        [ 0.00141,  0.00329,  0.00975,  0.01517, -0.85248, -0.84786],\n",
       "        [ 0.00445,  0.00351, -0.00237,  0.00141,  0.71685,  0.71873]]),\n",
       " 'BTC': array([[-0.01514,  0.00049, -0.01767, -0.00206,  1.58392,  1.58819],\n",
       "        [ 0.00042, -0.01568,  0.00393, -0.01514, -1.15136, -1.16502],\n",
       "        [ 0.01234,  0.00731,  0.00079,  0.00042,  0.85859,  0.86516],\n",
       "        ...,\n",
       "        [ 0.01374,  0.00584,  0.00145, -0.002  , -0.03176, -0.0279 ],\n",
       "        [ 0.00829,  0.00976,  0.01237,  0.01374, -0.56901, -0.56722],\n",
       "        [-0.00144,  0.0002 ,  0.00406,  0.00829, -0.31013, -0.31469]]),\n",
       " 'ETH': array([[-0.02725,  0.00019, -0.0222 ,  0.0031 ,  0.85268,  0.8438 ],\n",
       "        [ 0.00192, -0.02104,  0.00267, -0.02725, -0.04821, -0.05916],\n",
       "        [ 0.0237 ,  0.01797,  0.00029,  0.00192,  0.02347,  0.0318 ],\n",
       "        ...,\n",
       "        [ 0.02198,  0.01826,  0.     ,  0.01129,  0.56497,  0.57008],\n",
       "        [ 0.00065,  0.00029,  0.02214,  0.02198, -1.30929, -1.29534],\n",
       "        [ 0.     ,  0.     ,  0.     ,  0.     ,  0.     ,  0.     ]])}"
      ]
     },
     "execution_count": 100,
     "metadata": {},
     "output_type": "execute_result"
    }
   ],
   "source": [
    "# not a great way to do this\n",
    "l = int(9463 * 0.8)\n",
    "train_coins = {k: v[:l] for k,v in coins.items()}\n",
    "train_trades = {k: v[:l] for k,v in trades.items()}\n",
    "\n",
    "test_coins = {k: v[l:] for k,v in coins.items()}\n",
    "test_trades = {k: v[l:] for k,v in trades.items()}"
   ]
  },
  {
   "cell_type": "code",
   "execution_count": null,
   "metadata": {},
   "outputs": [],
   "source": [
    "coins_data = np.stack(coins.values())\n",
    "trades = np.stack(trades.values())"
   ]
  },
  {
   "cell_type": "code",
   "execution_count": 96,
   "metadata": {},
   "outputs": [
    {
     "data": {
      "text/plain": [
       "((3, 9511, 6), (3, 9463, 48))"
      ]
     },
     "execution_count": 96,
     "metadata": {},
     "output_type": "execute_result"
    }
   ],
   "source": [
    "coins_data.shape, trades.shape"
   ]
  },
  {
   "cell_type": "markdown",
   "metadata": {},
   "source": [
    "## Lets create our dataset "
   ]
  },
  {
   "cell_type": "code",
   "execution_count": 98,
   "metadata": {},
   "outputs": [],
   "source": [
    "class CryptoDataset(Dataset):\n",
    "    def __init__(self, trades, coins_data, unit_len=9463):\n",
    "                \n",
    "        self.work_window_len = work_window\n",
    "        self.op_window_len = op_window\n",
    "        self.unit_len = unit_len\n",
    "        self.idx_to_num = lambda idx: idx // self.unit_len\n",
    "        self.data = coins_data \n",
    "        self.trades = trades\n",
    "        self.shape = self.trades.shape\n",
    "\n",
    "        \n",
    "    def __len__(self):\n",
    "        return self.shape[1]\n",
    "    \n",
    "    def __getitem__(self, idx):\n",
    "        n = self.idx_to_num(idx)\n",
    "        start = idx - n*self.unit_len\n",
    "        x = self._data[n, start: start+self.work_window_len]\n",
    "        y =  np.array(self.trades[n, start])\n",
    "        return  n, x, y"
   ]
  },
  {
   "cell_type": "code",
   "execution_count": null,
   "metadata": {},
   "outputs": [],
   "source": [
    "train_coins"
   ]
  },
  {
   "cell_type": "code",
   "execution_count": null,
   "metadata": {},
   "outputs": [],
   "source": [
    "train_ds = CryptoDataset(numeric_columns, train_y, train_df)\n",
    "val_ds = CryptoDataset(numeric_columns, val_y, val_df)"
   ]
  },
  {
   "cell_type": "code",
   "execution_count": null,
   "metadata": {},
   "outputs": [],
   "source": [
    "train_ds._data.shape, len(train_ds.trades)"
   ]
  },
  {
   "cell_type": "code",
   "execution_count": null,
   "metadata": {},
   "outputs": [],
   "source": [
    "train_dl = DataLoader(train_ds, batch_size=152, shuffle=True)\n",
    "val_dl = DataLoader(val_ds, batch_size=152, shuffle=True)"
   ]
  },
  {
   "cell_type": "code",
   "execution_count": null,
   "metadata": {},
   "outputs": [],
   "source": [
    "md = ModelData('.', train_dl, val_dl)"
   ]
  },
  {
   "cell_type": "code",
   "execution_count": null,
   "metadata": {},
   "outputs": [],
   "source": [
    "class StatefulRNN(nn.Module):\n",
    "    def __init__(self, vocab_size, emb_size, n_hidden, bs):\n",
    "        super().__init__()\n",
    "        self.emb_size = emb_size\n",
    "        self.n_hidden = n_hidden\n",
    "        \n",
    "        self.e = nn.Embedding(vocab_size, emb_size)\n",
    "        self.rnn = nn.GRU(emb_size, n_hidden)\n",
    "        self.l_out = nn.Linear(n_hidden, vocab_size)\n",
    "        self.init_hidden(bs)\n",
    "        \n",
    "    def forward(self, cs):\n",
    "        bs = cs[0].size(0) # may not always be self.bs\n",
    "        if self.h.size(0) != bs: self.init_hidden(bs)\n",
    "        inp = self.e(cs)\n",
    "        out, h = self.rnn(inp, self.h)\n",
    "        \n",
    "        self.h = repackage_var(h)\n",
    "\n",
    "        return F.log_softmax(self.l_out(out), dim=-1).view(-1, vocab_size) # returns all outputs\n",
    "    \n",
    "    def init_hidden(self, bs): self.h = V(torch.zeros(1, bs,  self.n_hidden))"
   ]
  },
  {
   "cell_type": "code",
   "execution_count": null,
   "metadata": {},
   "outputs": [],
   "source": []
  }
 ],
 "metadata": {
  "kernelspec": {
   "display_name": "Python 3",
   "language": "python",
   "name": "python3"
  },
  "language_info": {
   "codemirror_mode": {
    "name": "ipython",
    "version": 3
   },
   "file_extension": ".py",
   "mimetype": "text/x-python",
   "name": "python",
   "nbconvert_exporter": "python",
   "pygments_lexer": "ipython3",
   "version": "3.6.6"
  }
 },
 "nbformat": 4,
 "nbformat_minor": 2
}
